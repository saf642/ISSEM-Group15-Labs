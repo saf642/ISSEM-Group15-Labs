{
  "nbformat": 4,
  "nbformat_minor": 0,
  "metadata": {
    "colab": {
      "name": "Lab#1.ipynb",
      "provenance": [],
      "authorship_tag": "ABX9TyN801xDFfHVPQsp18C2jeGW",
      "include_colab_link": true
    },
    "kernelspec": {
      "name": "python3",
      "display_name": "Python 3"
    },
    "language_info": {
      "name": "python"
    }
  },
  "cells": [
    {
      "cell_type": "markdown",
      "metadata": {
        "id": "view-in-github",
        "colab_type": "text"
      },
      "source": [
        "<a href=\"https://colab.research.google.com/github/saf642/ISSEM-Group15-Labs/blob/main/Lab_1.ipynb\" target=\"_parent\"><img src=\"https://colab.research.google.com/assets/colab-badge.svg\" alt=\"Open In Colab\"/></a>"
      ]
    },
    {
      "cell_type": "code",
      "execution_count": 2,
      "metadata": {
        "colab": {
          "base_uri": "https://localhost:8080/"
        },
        "id": "zTcZdaYXkBpP",
        "outputId": "21d42c28-b9a9-4aef-a36b-f20eceff9a85"
      },
      "outputs": [
        {
          "output_type": "stream",
          "name": "stdout",
          "text": [
            "Group:15 Lab1 Course:ISSEM\n"
          ]
        }
      ],
      "source": [
        "Group = \"15\"\n",
        "Course = \"ISSEM\"\n",
        "Lab = \"Lab1\"\n",
        "print(\"Group:\"+Group, Lab, \"Course:\"+Course)"
      ]
    },
    {
      "cell_type": "code",
      "source": [
        "X=7\n",
        "Y = 'ISSEM'\n",
        "Z = [\"red\", \"blue\", \"green\"]\n",
        "print(type(X)) # X is integer\n",
        "print(type(Y)) # Y is String\n",
        "print(type(Z)) # Z is list"
      ],
      "metadata": {
        "colab": {
          "base_uri": "https://localhost:8080/"
        },
        "id": "4UNmhzk26PTb",
        "outputId": "ef9be2c5-3803-44be-d0e7-763076530982"
      },
      "execution_count": 6,
      "outputs": [
        {
          "output_type": "stream",
          "name": "stdout",
          "text": [
            "<class 'int'>\n",
            "<class 'str'>\n",
            "<class 'list'>\n"
          ]
        }
      ]
    },
    {
      "cell_type": "code",
      "source": [
        "str=\"The quick brown fox jumps over the lazy dog\" # Assign string to variable \"str\"\n",
        "arr = str.split(\" \") # The \"split\" function split the above sentence saved in \"str\" by \"space\". Each word is now saved as array\n",
        "temp=[] # delar empty list\n",
        "temp.append(arr[0]) # append first array item \"The\" to the \"temp\" list\n",
        "temp.append(arr[1]) # append second array item \"quick\" to the \"temp\" list\n",
        "arr[0]= arr[len(arr)-2] # assign the value of second to the last array item to the first array item\n",
        "arr[1]= arr[len(arr)-1] # assign the value of the last array item to the second array item\n",
        "arr[len(arr)-2] = temp[0] # Assign first \"temp\" list item to second to the last array item\n",
        "arr[len(arr)-1] = temp[1] # Assign second \"temp\" list item to the last array item\n",
        "str=' '.join(arr) # join all the array items into String using \" \" (space) seperator\n"
      ],
      "metadata": {
        "id": "BoqHuYLh6-uo"
      },
      "execution_count": 18,
      "outputs": []
    },
    {
      "cell_type": "code",
      "source": [
        ""
      ],
      "metadata": {
        "id": "4yWEtlUnB7yf"
      },
      "execution_count": null,
      "outputs": []
    }
  ]
}