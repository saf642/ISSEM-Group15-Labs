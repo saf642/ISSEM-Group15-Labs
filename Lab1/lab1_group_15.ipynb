{
  "cells": [
    {
      "cell_type": "markdown",
      "id": "211851de",
      "metadata": {
        "id": "211851de"
      },
      "source": [
        "# Lab1\n",
        "Jake Woratzeck - jcw9324\n",
        "Trang Duong - \n",
        "Eric Lankford - \n",
        "Shak Farok - saf642"
      ]
    },
    {
      "cell_type": "code",
      "execution_count": null,
      "id": "8d7ad41e",
      "metadata": {
        "id": "8d7ad41e",
        "outputId": "506b60fb-74dc-4ed5-809a-1d6f006aaceb"
      },
      "outputs": [
        {
          "name": "stdout",
          "output_type": "stream",
          "text": [
            "Group:15 Lab1 Course:ISSEM\n"
          ]
        }
      ],
      "source": [
        "Group = \"15\"\n",
        "Course = \"ISSEM\"\n",
        "Lab = \"Lab1\"\n",
        "print(\"Group:\"+Group,Lab,\"Course:\"+Course)\n"
      ]
    },
    {
      "cell_type": "code",
      "execution_count": 2,
      "id": "1d32c8f9",
      "metadata": {
        "id": "1d32c8f9",
        "outputId": "1b58f050-e0ce-4b06-c188-c4e05d7bcacb",
        "colab": {
          "base_uri": "https://localhost:8080/"
        }
      },
      "outputs": [
        {
          "output_type": "stream",
          "name": "stdout",
          "text": [
            "data type of X is <class 'int'>\n",
            "data type of Y is <class 'str'>\n",
            "data type of Z is <class 'list'>\n"
          ]
        }
      ],
      "source": [
        "X = 7                           # int\n",
        "Y = 'ISSEM'                     # str\n",
        "Z = [\"red\", \"blue\", \"green\"]    # list\n",
        "\n",
        "print (\"data type of X is\", type(X))\n",
        "print (\"data type of Y is\", type(Y))\n",
        "print (\"data type of Z is\", type(Z))"
      ]
    },
    {
      "cell_type": "code",
      "execution_count": null,
      "id": "eb38228c",
      "metadata": {
        "id": "eb38228c"
      },
      "outputs": [],
      "source": [
        "Q7 here!"
      ]
    },
    {
      "cell_type": "code",
      "execution_count": null,
      "id": "30b31187",
      "metadata": {
        "id": "30b31187"
      },
      "outputs": [],
      "source": [
        "Q8 here!"
      ]
    },
    {
      "cell_type": "code",
      "execution_count": null,
      "id": "7bc12e31",
      "metadata": {
        "id": "7bc12e31"
      },
      "outputs": [],
      "source": [
        "Q9 here!"
      ]
    },
    {
      "cell_type": "code",
      "execution_count": null,
      "id": "d07af869",
      "metadata": {
        "id": "d07af869"
      },
      "outputs": [],
      "source": [
        "Q10 here!"
      ]
    }
  ],
  "metadata": {
    "kernelspec": {
      "display_name": "Python 3 (ipykernel)",
      "language": "python",
      "name": "python3"
    },
    "language_info": {
      "codemirror_mode": {
        "name": "ipython",
        "version": 3
      },
      "file_extension": ".py",
      "mimetype": "text/x-python",
      "name": "python",
      "nbconvert_exporter": "python",
      "pygments_lexer": "ipython3",
      "version": "3.9.13"
    },
    "colab": {
      "name": "lab1_group_15.ipynb",
      "provenance": []
    }
  },
  "nbformat": 4,
  "nbformat_minor": 5
}