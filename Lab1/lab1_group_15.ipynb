{
 "cells": [
  {
   "cell_type": "markdown",
   "id": "211851de",
   "metadata": {},
   "source": [
    "# Lab1\n",
    "Jake Woratzeck - jcw9324\n",
    "Trang Duong - \n",
    "Eric Lankford - \n",
    "Shak Farok - saf642"
   ]
  },
  {
   "cell_type": "code",
   "execution_count": 1,
   "id": "8d7ad41e",
   "metadata": {},
   "outputs": [
    {
     "name": "stdout",
     "output_type": "stream",
     "text": [
      "Group:15 Lab1 Course:ISSEM\n"
     ]
    }
   ],
   "source": [
    "Group = \"15\"\n",
    "Course = \"ISSEM\"\n",
    "Lab = \"Lab1\"\n",
    "print(\"Group:\"+Group,Lab,\"Course:\"+Course)\n"
   ]
  },
  {
   "cell_type": "code",
   "execution_count": null,
   "id": "1d32c8f9",
   "metadata": {},
   "outputs": [],
   "source": [
    "Q6 here!"
   ]
  },
  {
   "cell_type": "code",
   "execution_count": null,
   "id": "eb38228c",
   "metadata": {},
   "outputs": [],
   "source": [
    "Q7 here!"
   ]
  },
  {
   "cell_type": "code",
   "execution_count": null,
   "id": "30b31187",
   "metadata": {},
   "outputs": [],
   "source": [
    "Q8 here!"
   ]
  },
  {
   "cell_type": "code",
   "execution_count": null,
   "id": "7bc12e31",
   "metadata": {},
   "outputs": [],
   "source": [
    "Q9 here!"
   ]
  },
  {
   "cell_type": "code",
   "execution_count": null,
   "id": "d07af869",
   "metadata": {},
   "outputs": [],
   "source": [
    "Q10 here!"
   ]
  }
 ],
 "metadata": {
  "kernelspec": {
   "display_name": "Python 3 (ipykernel)",
   "language": "python",
   "name": "python3"
  },
  "language_info": {
   "codemirror_mode": {
    "name": "ipython",
    "version": 3
   },
   "file_extension": ".py",
   "mimetype": "text/x-python",
   "name": "python",
   "nbconvert_exporter": "python",
   "pygments_lexer": "ipython3",
   "version": "3.9.13"
  }
 },
 "nbformat": 4,
 "nbformat_minor": 5
}
