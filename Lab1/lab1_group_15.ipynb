{
  "cells": [
    {
      "cell_type": "markdown",
      "id": "211851de",
      "metadata": {
        "id": "211851de"
      },
      "source": [
        "# Lab1\n",
        "Jake Woratzeck - jcw9324 <br>\n",
        "Trang Duong - tpd269<br>\n",
        "Eric Lankford - el3293<br>\n",
        "Shak Farok - saf642"
      ]
    },
    {
      "cell_type": "code",
      "execution_count": null,
      "id": "8d7ad41e",
      "metadata": {
        "id": "8d7ad41e",
        "outputId": "506b60fb-74dc-4ed5-809a-1d6f006aaceb"
      },
      "outputs": [
        {
          "name": "stdout",
          "output_type": "stream",
          "text": [
            "Group:15 Lab1 Course:ISSEM\n"
          ]
        }
      ],
      "source": [
        "Group = \"15\"\n",
        "Course = \"ISSEM\"\n",
        "Lab = \"Lab1\"\n",
        "print(\"Group:\"+Group,Lab,\"Course:\"+Course)\n"
      ]
    },
    {
      "cell_type": "code",
      "execution_count": null,
      "id": "1d32c8f9",
      "metadata": {
        "colab": {
          "base_uri": "https://localhost:8080/"
        },
        "id": "1d32c8f9",
        "outputId": "1b58f050-e0ce-4b06-c188-c4e05d7bcacb"
      },
      "outputs": [
        {
          "output_type": "stream",
          "name": "stdout",
          "text": [
            "data type of X is <class 'int'>\n",
            "data type of Y is <class 'str'>\n",
            "data type of Z is <class 'list'>\n"
          ]
        }
      ],
      "source": [
        "X = 7                           # int\n",
        "Y = 'ISSEM'                     # str\n",
        "Z = [\"red\", \"blue\", \"green\"]    # list\n",
        "\n",
        "print (\"data type of X is\", type(X))\n",
        "print (\"data type of Y is\", type(Y))\n",
        "print (\"data type of Z is\", type(Z))"
      ]
    },
    {
      "cell_type": "code",
      "execution_count": null,
      "id": "eb38228c",
      "metadata": {
        "id": "eb38228c"
      },
      "outputs": [],
      "source": [
        "Q7 here!"
      ]
    },
    {
      "cell_type": "code",
      "execution_count": 5,
      "id": "30b31187",
      "metadata": {
        "id": "30b31187",
        "outputId": "0e23f3e0-024d-401d-b145-2eed76c2c65e",
        "colab": {
          "base_uri": "https://localhost:8080/"
        }
      },
      "outputs": [
        {
          "output_type": "stream",
          "name": "stdout",
          "text": [
            "54321\n",
            "54321\n"
          ]
        }
      ],
      "source": [
        "# Function definition for function named \"dummy\"\n",
        "# Receives data in an argument called \"var\"\n",
        "def dummy(var):\n",
        "\n",
        "  # Casts the \"var\" argument to type string. Stores in \"x\" variable\n",
        "  x = str(var)\n",
        "\n",
        "  # len() function used to calculate length of string \"x\"\n",
        "  # Subtract 1 from length. This will correspond to the index of the last \n",
        "  # character of \"x\" since string indicies begin at 0.\n",
        "  y = len(x)-1\n",
        "\n",
        "  # Create empty string variable, \"z\"\n",
        "  z = ''\n",
        "\n",
        "  # While loop that iterates once for each character of the \"var\" string\n",
        "  while y >= 0:\n",
        "\n",
        "    # Add the character at index \"y\" in the \"x\" string to the end of the \"z\" \n",
        "    # string. This will start with the last character of the string, since the first\n",
        "    # value of \"y\" is the total length of the string\n",
        "    z = z + x[y]\n",
        "    \n",
        "    # Subtracts 1 from \"y\" each time the loop iterates. This causes the loop \n",
        "    # to iterate up to, and including, when the value of y becomes 0.\n",
        "    # This will add the characters of \"var\" to string \"z\" in reverse order.\n",
        "    y -= 1\n",
        "  \n",
        "  # Return the \"z\" string casted as type int.\n",
        "  # This will return an error if the \"var\" argument passed to \"dummy\" is not\n",
        "  # exclusively composed of base 10 numbers. Any string containing digits other\n",
        "  # than 0 through 9 will return:\n",
        "  # ValueError: invalid literal for int() with base 10\n",
        "  return int(z)\n",
        "\n",
        "# Example 1\n",
        "# Should return 54321 as an int when string \"12345\" is passed as an argument\n",
        "print(dummy(\"12345\"))\n",
        "\n",
        "# Example 2\n",
        "# Should also work if argument is not initially passed as a string due to type\n",
        "# casting when \"x\" is defined\n",
        "print(dummy(12345))\n"
      ]
    },
    {
      "cell_type": "code",
      "execution_count": null,
      "id": "7bc12e31",
      "metadata": {
        "id": "7bc12e31"
      },
      "outputs": [],
      "source": [
        "Q9 here!"
      ]
    },
    {
      "cell_type": "code",
      "execution_count": null,
      "id": "d07af869",
      "metadata": {
        "id": "d07af869"
      },
      "outputs": [],
      "source": [
        "Q10 here!"
      ]
    }
  ],
  "metadata": {
    "kernelspec": {
      "display_name": "Python 3 (ipykernel)",
      "language": "python",
      "name": "python3"
    },
    "language_info": {
      "codemirror_mode": {
        "name": "ipython",
        "version": 3
      },
      "file_extension": ".py",
      "mimetype": "text/x-python",
      "name": "python",
      "nbconvert_exporter": "python",
      "pygments_lexer": "ipython3",
      "version": "3.9.13"
    },
    "colab": {
      "name": "lab1_group_15.ipynb",
      "provenance": []
    }
  },
  "nbformat": 4,
  "nbformat_minor": 5
}